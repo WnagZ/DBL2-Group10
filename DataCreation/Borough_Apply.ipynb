{
 "cells": [
  {
   "cell_type": "code",
   "execution_count": 1,
   "id": "7c520070",
   "metadata": {},
   "outputs": [
    {
     "name": "stdout",
     "output_type": "stream",
     "text": [
      "Requirement already satisfied: pyproj in c:\\users\\rbors\\anaconda3\\lib\\site-packages (3.6.1)\n",
      "Requirement already satisfied: certifi in c:\\users\\rbors\\anaconda3\\lib\\site-packages (from pyproj) (2024.2.2)\n",
      "Note: you may need to restart the kernel to use updated packages.\n"
     ]
    }
   ],
   "source": [
    "pip install pyproj"
   ]
  },
  {
   "cell_type": "code",
   "execution_count": 2,
   "id": "a7cc8ca1",
   "metadata": {},
   "outputs": [],
   "source": [
    "import csv\n",
    "import pandas as pd\n",
    "from shapely.geometry import Point, Polygon\n",
    "from pyproj import Proj, transform\n",
    "from multiprocessing import Pool, Manager, cpu_count\n",
    "from tqdm import tqdm\n",
    "import numpy as np"
   ]
  },
  {
   "cell_type": "code",
   "execution_count": 3,
   "id": "ed0dc1ae",
   "metadata": {},
   "outputs": [
    {
     "name": "stderr",
     "output_type": "stream",
     "text": [
      "C:\\Users\\rbors\\AppData\\Local\\Temp\\ipykernel_9592\\2031741419.py:1: DtypeWarning: Columns (9) have mixed types. Specify dtype option on import or set low_memory=False.\n",
      "  df = pd.read_csv(\"search.csv\")\n"
     ]
    }
   ],
   "source": [
    "df = pd.read_csv(\"search.csv\")"
   ]
  },
  {
   "cell_type": "code",
   "execution_count": 4,
   "id": "6c550123",
   "metadata": {},
   "outputs": [],
   "source": [
    "df_area = df[df['Longitude'].notnull()]"
   ]
  },
  {
   "cell_type": "code",
   "execution_count": 5,
   "id": "9dc0b6d6",
   "metadata": {},
   "outputs": [
    {
     "name": "stderr",
     "output_type": "stream",
     "text": [
      "C:\\Users\\rbors\\anaconda3\\lib\\site-packages\\pyproj\\crs\\crs.py:141: FutureWarning: '+init=<authority>:<code>' syntax is deprecated. '<authority>:<code>' is the preferred initialization method. When making the change, be mindful of axis order changes: https://pyproj4.github.io/pyproj/stable/gotchas.html#axis-order-changes-in-proj-6\n",
      "  in_crs_string = _prepare_from_proj_string(in_crs_string)\n"
     ]
    }
   ],
   "source": [
    "boroughs = {}\n",
    "\n",
    "v84 = Proj(proj=\"latlong\",towgs84=\"0,0,0\",ellps=\"WGS84\")\n",
    "v36 = Proj(proj=\"latlong\", k=0.9996012717, ellps=\"airy\",\n",
    "        towgs84=\"446.448,-125.157,542.060,0.1502,0.2470,0.8421,-20.4894\")\n",
    "vgrid = Proj(init=\"world:bng\")\n",
    "\n",
    "def vectorized_convert(df):\n",
    "    vlon36, vlat36 = vgrid(df['x'].values, \n",
    "                           df['y'].values, \n",
    "                           inverse=True)\n",
    "    converted = transform(v36, v84, vlon36, vlat36)\n",
    "    df['longitude'] = converted[0]\n",
    "    df['latitude'] = converted[1]\n",
    "    return df\n",
    "\n",
    "df = pd.read_csv(\"london_boroughs.csv\")"
   ]
  },
  {
   "cell_type": "code",
   "execution_count": 6,
   "id": "3ea9c444",
   "metadata": {},
   "outputs": [
    {
     "name": "stderr",
     "output_type": "stream",
     "text": [
      "C:\\Users\\rbors\\AppData\\Local\\Temp\\ipykernel_9592\\1140381087.py:12: FutureWarning: This function is deprecated. See: https://pyproj4.github.io/pyproj/stable/gotchas.html#upgrading-to-pyproj-2-from-pyproj-1\n",
      "  converted = transform(v36, v84, vlon36, vlat36)\n"
     ]
    }
   ],
   "source": [
    "new_df = vectorized_convert(df)\n",
    "new_df = new_df[['borough', 'longitude', 'latitude']]\n",
    "new_df.to_csv('london_boroughs_2.csv')"
   ]
  },
  {
   "cell_type": "code",
   "execution_count": 7,
   "id": "b3cf26ca",
   "metadata": {},
   "outputs": [],
   "source": [
    "new_df = new_df[['borough', 'longitude', 'latitude']]\n",
    "new_df.to_csv('london_boroughs_2.csv')"
   ]
  },
  {
   "cell_type": "code",
   "execution_count": 8,
   "id": "e8dffd5c",
   "metadata": {},
   "outputs": [],
   "source": [
    "boroughs = {}\n",
    "\n",
    "with open('london_boroughs_2.csv', 'r') as f:\n",
    "    reader = csv.reader(f)\n",
    "    next(reader)\n",
    "    for row in reader:\n",
    "        try:\n",
    "            tmp, borough, x, y = row[0], row[1], float(row[2]), float(row[3])            \n",
    "            if borough not in boroughs:\n",
    "                boroughs[borough] = []\n",
    "            boroughs[borough].append((x, y))\n",
    "        except ValueError:\n",
    "            continue"
   ]
  },
  {
   "cell_type": "code",
   "execution_count": 9,
   "id": "b319367d",
   "metadata": {},
   "outputs": [],
   "source": [
    "compiled_polygons = {borough: Polygon(boundary_coords) for borough, boundary_coords in boroughs.items()}\n",
    "\n",
    "def find_borough(latitude, longitude):\n",
    "    point_to_check = Point(longitude, latitude)\n",
    "    for borough, polygon in compiled_polygons.items():\n",
    "        if point_to_check.within(polygon):\n",
    "            return borough\n",
    "    return None"
   ]
  },
  {
   "cell_type": "code",
   "execution_count": 10,
   "id": "054c7a2a",
   "metadata": {},
   "outputs": [],
   "source": [
    "def apply_find_borough(row):\n",
    "    if pd.notnull(row['Longitude']) and pd.notnull(row['Latitude']):\n",
    "        borough = find_borough(row['Latitude'], row['Longitude'])\n",
    "        return borough\n",
    "    else:\n",
    "        return None\n",
    "\n",
    "# Assuming 'df_area' is your main DataFrame and 'new_df' contains the borough boundaries\n",
    "df_area['boroughs'] = df_area.apply(apply_find_borough, axis=1)"
   ]
  },
  {
   "cell_type": "code",
   "execution_count": 13,
   "id": "cfcde9bc",
   "metadata": {},
   "outputs": [],
   "source": [
    "df_area.to_csv('search_boroughs.csv')"
   ]
  }
 ],
 "metadata": {
  "kernelspec": {
   "display_name": "Python 3 (ipykernel)",
   "language": "python",
   "name": "python3"
  },
  "language_info": {
   "codemirror_mode": {
    "name": "ipython",
    "version": 3
   },
   "file_extension": ".py",
   "mimetype": "text/x-python",
   "name": "python",
   "nbconvert_exporter": "python",
   "pygments_lexer": "ipython3",
   "version": "3.10.9"
  }
 },
 "nbformat": 4,
 "nbformat_minor": 5
}
