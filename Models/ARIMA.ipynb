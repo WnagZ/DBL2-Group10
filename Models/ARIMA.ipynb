{
 "cells": [
  {
   "cell_type": "markdown",
   "metadata": {},
   "source": [
    "# ARIMA for trust prediction "
   ]
  },
  {
   "cell_type": "code",
   "execution_count": null,
   "metadata": {},
   "outputs": [],
   "source": [
    "import pandas as pd\n",
    "import numpy as np\n",
    "from statsmodels.tsa.stattools import adfuller"
   ]
  },
  {
   "cell_type": "code",
   "execution_count": 13,
   "metadata": {},
   "outputs": [],
   "source": [
    "# transforms the prportion using logarithm in ordere to make predictions easier\n",
    "def LogarithmProportion(row, column_name):\n",
    "    p = row[column_name]\n",
    "    return np.log(p/(1-p))\n",
    "df = pd.read_csv(r\".\\data\\merged_PAS_Crine.csv\")\n",
    "df['Proportion'] = df.apply(lambda row: LogarithmProportion(row, \"Proportion\"), axis=1)\n",
    "df['Date'] = pd.to_datetime(df['Date'])"
   ]
  },
  {
   "cell_type": "code",
   "execution_count": 14,
   "metadata": {},
   "outputs": [
    {
     "data": {
      "text/plain": [
       "pandas._libs.tslibs.timestamps.Timestamp"
      ]
     },
     "execution_count": 14,
     "metadata": {},
     "output_type": "execute_result"
    }
   ],
   "source": [
    "# checking if column stores datetime\n",
    "type(df[\"Date\"].iloc[0])"
   ]
  },
  {
   "cell_type": "code",
   "execution_count": 15,
   "metadata": {},
   "outputs": [
    {
     "data": {
      "text/html": [
       "<div>\n",
       "<style scoped>\n",
       "    .dataframe tbody tr th:only-of-type {\n",
       "        vertical-align: middle;\n",
       "    }\n",
       "\n",
       "    .dataframe tbody tr th {\n",
       "        vertical-align: top;\n",
       "    }\n",
       "\n",
       "    .dataframe thead th {\n",
       "        text-align: right;\n",
       "    }\n",
       "</style>\n",
       "<table border=\"1\" class=\"dataframe\">\n",
       "  <thead>\n",
       "    <tr style=\"text-align: right;\">\n",
       "      <th></th>\n",
       "      <th>Anti-social behaviour</th>\n",
       "      <th>Other crime</th>\n",
       "      <th>Burglary</th>\n",
       "      <th>Vehicle crime</th>\n",
       "      <th>Robbery</th>\n",
       "      <th>Other theft</th>\n",
       "      <th>Criminal damage and arson</th>\n",
       "      <th>Drugs</th>\n",
       "      <th>Shoplifting</th>\n",
       "      <th>Violence and sexual offences</th>\n",
       "      <th>Theft from the person</th>\n",
       "      <th>Public order</th>\n",
       "      <th>Bicycle theft</th>\n",
       "      <th>Possession of weapons</th>\n",
       "      <th>Proportion</th>\n",
       "    </tr>\n",
       "    <tr>\n",
       "      <th>Date</th>\n",
       "      <th></th>\n",
       "      <th></th>\n",
       "      <th></th>\n",
       "      <th></th>\n",
       "      <th></th>\n",
       "      <th></th>\n",
       "      <th></th>\n",
       "      <th></th>\n",
       "      <th></th>\n",
       "      <th></th>\n",
       "      <th></th>\n",
       "      <th></th>\n",
       "      <th></th>\n",
       "      <th></th>\n",
       "      <th></th>\n",
       "    </tr>\n",
       "  </thead>\n",
       "  <tbody>\n",
       "    <tr>\n",
       "      <th>2015-04-01</th>\n",
       "      <td>18327</td>\n",
       "      <td>685</td>\n",
       "      <td>5375</td>\n",
       "      <td>6569</td>\n",
       "      <td>1766</td>\n",
       "      <td>8457.0</td>\n",
       "      <td>5078.0</td>\n",
       "      <td>2591.0</td>\n",
       "      <td>3679.0</td>\n",
       "      <td>13536.0</td>\n",
       "      <td>3013.0</td>\n",
       "      <td>3302.0</td>\n",
       "      <td>1407.0</td>\n",
       "      <td>283.0</td>\n",
       "      <td>1.815290</td>\n",
       "    </tr>\n",
       "    <tr>\n",
       "      <th>2015-05-01</th>\n",
       "      <td>19630</td>\n",
       "      <td>706</td>\n",
       "      <td>5524</td>\n",
       "      <td>6993</td>\n",
       "      <td>1882</td>\n",
       "      <td>9245.0</td>\n",
       "      <td>5348.0</td>\n",
       "      <td>2658.0</td>\n",
       "      <td>3627.0</td>\n",
       "      <td>15058.0</td>\n",
       "      <td>3200.0</td>\n",
       "      <td>3504.0</td>\n",
       "      <td>1663.0</td>\n",
       "      <td>285.0</td>\n",
       "      <td>1.900959</td>\n",
       "    </tr>\n",
       "    <tr>\n",
       "      <th>2015-06-01</th>\n",
       "      <td>21392</td>\n",
       "      <td>734</td>\n",
       "      <td>5245</td>\n",
       "      <td>7261</td>\n",
       "      <td>1707</td>\n",
       "      <td>9383.0</td>\n",
       "      <td>5260.0</td>\n",
       "      <td>2780.0</td>\n",
       "      <td>3515.0</td>\n",
       "      <td>16562.0</td>\n",
       "      <td>2686.0</td>\n",
       "      <td>3720.0</td>\n",
       "      <td>1696.0</td>\n",
       "      <td>318.0</td>\n",
       "      <td>1.900959</td>\n",
       "    </tr>\n",
       "    <tr>\n",
       "      <th>2015-07-01</th>\n",
       "      <td>23311</td>\n",
       "      <td>757</td>\n",
       "      <td>5368</td>\n",
       "      <td>6630</td>\n",
       "      <td>1764</td>\n",
       "      <td>9821.0</td>\n",
       "      <td>5405.0</td>\n",
       "      <td>2922.0</td>\n",
       "      <td>3430.0</td>\n",
       "      <td>17432.0</td>\n",
       "      <td>2650.0</td>\n",
       "      <td>3793.0</td>\n",
       "      <td>1762.0</td>\n",
       "      <td>316.0</td>\n",
       "      <td>1.992430</td>\n",
       "    </tr>\n",
       "    <tr>\n",
       "      <th>2015-08-01</th>\n",
       "      <td>21826</td>\n",
       "      <td>683</td>\n",
       "      <td>5343</td>\n",
       "      <td>6454</td>\n",
       "      <td>1771</td>\n",
       "      <td>8927.0</td>\n",
       "      <td>4935.0</td>\n",
       "      <td>2961.0</td>\n",
       "      <td>3422.0</td>\n",
       "      <td>16176.0</td>\n",
       "      <td>2366.0</td>\n",
       "      <td>3561.0</td>\n",
       "      <td>1475.0</td>\n",
       "      <td>329.0</td>\n",
       "      <td>1.992430</td>\n",
       "    </tr>\n",
       "  </tbody>\n",
       "</table>\n",
       "</div>"
      ],
      "text/plain": [
       "            Anti-social behaviour  Other crime  Burglary  Vehicle crime  \\\n",
       "Date                                                                      \n",
       "2015-04-01                  18327          685      5375           6569   \n",
       "2015-05-01                  19630          706      5524           6993   \n",
       "2015-06-01                  21392          734      5245           7261   \n",
       "2015-07-01                  23311          757      5368           6630   \n",
       "2015-08-01                  21826          683      5343           6454   \n",
       "\n",
       "            Robbery  Other theft  Criminal damage and arson   Drugs  \\\n",
       "Date                                                                  \n",
       "2015-04-01     1766       8457.0                     5078.0  2591.0   \n",
       "2015-05-01     1882       9245.0                     5348.0  2658.0   \n",
       "2015-06-01     1707       9383.0                     5260.0  2780.0   \n",
       "2015-07-01     1764       9821.0                     5405.0  2922.0   \n",
       "2015-08-01     1771       8927.0                     4935.0  2961.0   \n",
       "\n",
       "            Shoplifting  Violence and sexual offences  Theft from the person  \\\n",
       "Date                                                                           \n",
       "2015-04-01       3679.0                       13536.0                 3013.0   \n",
       "2015-05-01       3627.0                       15058.0                 3200.0   \n",
       "2015-06-01       3515.0                       16562.0                 2686.0   \n",
       "2015-07-01       3430.0                       17432.0                 2650.0   \n",
       "2015-08-01       3422.0                       16176.0                 2366.0   \n",
       "\n",
       "            Public order  Bicycle theft  Possession of weapons  Proportion  \n",
       "Date                                                                        \n",
       "2015-04-01        3302.0         1407.0                  283.0    1.815290  \n",
       "2015-05-01        3504.0         1663.0                  285.0    1.900959  \n",
       "2015-06-01        3720.0         1696.0                  318.0    1.900959  \n",
       "2015-07-01        3793.0         1762.0                  316.0    1.992430  \n",
       "2015-08-01        3561.0         1475.0                  329.0    1.992430  "
      ]
     },
     "execution_count": 15,
     "metadata": {},
     "output_type": "execute_result"
    }
   ],
   "source": [
    "df = df.set_index('Date')\n",
    "df.head()"
   ]
  },
  {
   "cell_type": "code",
   "execution_count": 18,
   "metadata": {},
   "outputs": [
    {
     "data": {
      "text/plain": [
       "<Axes: xlabel='Date'>"
      ]
     },
     "execution_count": 18,
     "metadata": {},
     "output_type": "execute_result"
    },
    {
     "data": {
      "image/png": "[encoded data removed]",
      "text/plain": [
       "<Figure size 1200x500 with 1 Axes>"
      ]
     },
     "metadata": {},
     "output_type": "display_data"
    }
   ],
   "source": [
    "df['Proportion'].plot(figsize=(12,5))"
   ]
  },
  {
   "cell_type": "code",
   "execution_count": 21,
   "metadata": {},
   "outputs": [],
   "source": [
    "# check for statioarity\n",
    "\n",
    "def ad_test(data):\n",
    "    dftest  = adfuller(data, autolag = 'AIC')\n",
    "    print(\"1. ADF : \", dftest[0])\n",
    "    print(\"2. P-Value : \", dftest[1])\n",
    "    print(\"3. Num of Lags : \", dftest[2])\n",
    "    print(\"4. Num of observations used for ADF Refression and Critical Values Calculation :\", dftest[3])\n",
    "    print(\"5. Critical values : \")\n",
    "    for key, val in dftest[4].items():\n",
    "        print(\"\\t\", key, \":\", val)"
   ]
  },
  {
   "cell_type": "code",
   "execution_count": 22,
   "metadata": {},
   "outputs": [
    {
     "name": "stdout",
     "output_type": "stream",
     "text": [
      "1. ADF :  0.3644150750951254\n",
      "2. P-Value :  0.9801142953356451\n",
      "3. Num of Lags :  7\n",
      "4. Num of observations used for ADF Refression and Critical Values Calculation : 62\n",
      "5. Critical values : \n",
      "\t 1% : -3.540522678829176\n",
      "\t 5% : -2.9094272025108254\n",
      "\t 10% : -2.5923136524453696\n"
     ]
    }
   ],
   "source": [
    "ad_test(df[\"Proportion\"]) # data is not stationary, thus ARIMA cannot be implemented, p value not significant"
   ]
  }
 ],
 "metadata": {
  "kernelspec": {
   "display_name": ".venv",
   "language": "python",
   "name": "python3"
  },
  "language_info": {
   "codemirror_mode": {
    "name": "ipython",
    "version": 3
   },
   "file_extension": ".py",
   "mimetype": "text/x-python",
   "name": "python",
   "nbconvert_exporter": "python",
   "pygments_lexer": "ipython3",
   "version": "3.10.11"
  }
 },
 "nbformat": 4,
 "nbformat_minor": 2
}
