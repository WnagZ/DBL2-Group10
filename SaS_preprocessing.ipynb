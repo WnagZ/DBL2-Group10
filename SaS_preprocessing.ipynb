{
 "cells": [
  {
   "cell_type": "code",
   "execution_count": 1,
   "id": "3206cfaf",
   "metadata": {},
   "outputs": [],
   "source": [
    "import pandas as pd"
   ]
  },
  {
   "cell_type": "code",
   "execution_count": 2,
   "id": "f2140fb1",
   "metadata": {},
   "outputs": [],
   "source": [
    "df = pd.read_csv(\"./data/search.csv\")"
   ]
  },
  {
   "cell_type": "code",
   "execution_count": 7,
   "id": "490462f9",
   "metadata": {},
   "outputs": [
    {
     "name": "stdout",
     "output_type": "stream",
     "text": [
      "<class 'pandas.core.frame.DataFrame'>\n",
      "RangeIndex: 1333430 entries, 0 to 1333429\n",
      "Data columns (total 11 columns):\n",
      " #   Column                     Non-Null Count    Dtype  \n",
      "---  ------                     --------------    -----  \n",
      " 0   Unnamed: 0                 1333430 non-null  int64  \n",
      " 1   Longitude                  1333430 non-null  float64\n",
      " 2   Latitude                   1333430 non-null  float64\n",
      " 3   Type                       1333430 non-null  object \n",
      " 4   Date                       1333430 non-null  object \n",
      " 5   Gender                     1316600 non-null  object \n",
      " 6   Age range                  1186901 non-null  object \n",
      " 7   Self-defined ethnicity     1316944 non-null  object \n",
      " 8   Officer-defined ethnicity  1306521 non-null  object \n",
      " 9   Object of search           1330691 non-null  object \n",
      " 10  Outcome                    1333430 non-null  object \n",
      "dtypes: float64(2), int64(1), object(8)\n",
      "memory usage: 111.9+ MB\n"
     ]
    }
   ],
   "source": [
    "df.info()"
   ]
  },
  {
   "cell_type": "code",
   "execution_count": 9,
   "id": "6b3e1dea",
   "metadata": {},
   "outputs": [],
   "source": [
    "# Convert the date column to datetime\n",
    "df['Date'] = pd.to_datetime(df['Date'])"
   ]
  },
  {
   "cell_type": "code",
   "execution_count": 10,
   "id": "1f38eb19",
   "metadata": {},
   "outputs": [],
   "source": [
    "# Format the datetime to 'YYYY-MM-dd'\n",
    "df['Date'] = df['Date'].dt.strftime('%Y-%m-%d')"
   ]
  },
  {
   "cell_type": "code",
   "execution_count": 12,
   "id": "122a0c1e",
   "metadata": {},
   "outputs": [],
   "source": [
    "df.to_csv('search.csv', index=False)"
   ]
  },
  {
   "cell_type": "code",
   "execution_count": null,
   "id": "184c0d76",
   "metadata": {},
   "outputs": [],
   "source": []
  }
 ],
 "metadata": {
  "kernelspec": {
   "display_name": "Python 3 (ipykernel)",
   "language": "python",
   "name": "python3"
  },
  "language_info": {
   "codemirror_mode": {
    "name": "ipython",
    "version": 3
   },
   "file_extension": ".py",
   "mimetype": "text/x-python",
   "name": "python",
   "nbconvert_exporter": "python",
   "pygments_lexer": "ipython3",
   "version": "3.9.12"
  }
 },
 "nbformat": 4,
 "nbformat_minor": 5
}
