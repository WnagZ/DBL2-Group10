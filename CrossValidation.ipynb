{
 "cells": [
  {
   "cell_type": "markdown",
   "metadata": {},
   "source": [
    "# Model  selection and training"
   ]
  },
  {
   "cell_type": "code",
   "execution_count": 23,
   "metadata": {},
   "outputs": [],
   "source": [
    "import pandas as pd\n",
    "import numpy as np\n",
    "import matplotlib as plt\n",
    "\n",
    "from sklearn.metrics import accuracy_score, roc_auc_score\n",
    "\n",
    "from sklearn.model_selection import (\n",
    "    train_test_split,\n",
    "    TimeSeriesSplit,\n",
    "    KFold,\n",
    "    StratifiedKFold,\n",
    "    GroupKFold,\n",
    "    StratifiedGroupKFold,\n",
    ")"
   ]
  },
  {
   "cell_type": "code",
   "execution_count": 24,
   "metadata": {},
   "outputs": [],
   "source": [
    "# data loading\n",
    "\n",
    "import pandas as pd\n",
    "\n",
    "def get_data_simple():\n",
    "    # Load the dataset\n",
    "    simple_data = pd.read_csv(r\".\\data\\simple_data.csv\")\n",
    "    \n",
    "    # Randomly select 21 rows for the holdout set\n",
    "    holdout_sample = simple_data.sample(n=7, random_state=42)\n",
    "    holdout_ids = holdout_sample.index\n",
    "    \n",
    "    # Create the training set by excluding the holdout indices\n",
    "    train_simple = (\n",
    "        simple_data.loc[~simple_data.index.isin(holdout_ids)]\n",
    "        .sample(frac=1, random_state=42)\n",
    "        .reset_index(drop=True)\n",
    "    )\n",
    "\n",
    "    # Create the holdout set\n",
    "    holdout_simple = (\n",
    "        simple_data.loc[simple_data.index.isin(holdout_ids)]\n",
    "        .sample(frac=1, random_state=42)\n",
    "        .reset_index(drop=True)\n",
    "    )\n",
    "\n",
    "    return train_simple, holdout_simple\n",
    "\n",
    "def get_data_trans():\n",
    "    # Load the dataset\n",
    "    transformed_data = pd.read_csv(r\".\\data\\transformed_data.csv\")\n",
    "    \n",
    "    # Randomly select 21 rows for the holdout set\n",
    "    holdout_sample = transformed_data.sample(n=7, random_state=42)\n",
    "    holdout_ids = holdout_sample.index\n",
    "    \n",
    "    # Create the training set by excluding the holdout indices\n",
    "    train_trans = (\n",
    "        transformed_data.loc[~transformed_data.index.isin(holdout_ids)]\n",
    "        .sample(frac=1, random_state=42)\n",
    "        .reset_index(drop=True)\n",
    "    )\n",
    "\n",
    "    # Create the holdout set\n",
    "    holdout_trans = (\n",
    "        transformed_data.loc[transformed_data.index.isin(holdout_ids)]\n",
    "        .sample(frac=1, random_state=42)\n",
    "        .reset_index(drop=True)\n",
    "    )\n",
    "\n",
    "    return train_trans, holdout_trans\n",
    "\n",
    "\n",
    "# Get the training and holdout datasets\n",
    "train_simple, holdout_simple = get_data_simple()\n",
    "\n",
    "train_trans, holdout_trans = get_data_trans()"
   ]
  },
  {
   "cell_type": "code",
   "execution_count": 25,
   "metadata": {},
   "outputs": [
    {
     "data": {
      "text/plain": [
       "((49, 10), (21, 10), (49, 10), (21, 10))"
      ]
     },
     "execution_count": 25,
     "metadata": {},
     "output_type": "execute_result"
    }
   ],
   "source": [
    "train_simple.shape,  holdout_simple.shape, train_trans.shape, holdout_trans.shape"
   ]
  },
  {
   "cell_type": "code",
   "execution_count": 26,
   "metadata": {},
   "outputs": [],
   "source": [
    "# features:\n",
    "def get_X_y_simple(train):\n",
    "\n",
    "    SIMPLE_FEATURES = ['Criminal damage and arson', 'Public order',\n",
    "       'Violence and sexual offences', 'Shoplifting', 'Bicycle theft',\n",
    "       'Anti-social behaviour']\n",
    "\n",
    "    TARGRT = 'Proportion'\n",
    "\n",
    "    X_simple = train_simple[SIMPLE_FEATURES]\n",
    "    y_simple = train_simple[TARGRT]\n",
    "\n",
    "    return X_simple, y_simple\n",
    "\n",
    "\n",
    "def get_X_y_trans(train):\n",
    "    \n",
    "    TRANSFORMED_FEATURES = ['Criminal damage and arson', 'sqr_Drugs',\n",
    "        'Violence and sexual offences', 'minmax_Public order', 'Shoplifting',\n",
    "        'sqr_Anti-social behaviour', 'log_Bicycle theft']\n",
    "\n",
    "    TARGRT = 'Proportion'\n",
    "\n",
    "    X_trans = train_trans[TRANSFORMED_FEATURES]\n",
    "    y_trans = train_trans[TARGRT]\n",
    "\n",
    "\n",
    "    return X_trans, y_trans\n",
    "\n"
   ]
  },
  {
   "cell_type": "code",
   "execution_count": null,
   "metadata": {},
   "outputs": [],
   "source": [
    "X_simple, y_simple = get_X_y_simple(train_simple)\n",
    "\n",
    "train_test_split(X_simple, y_simple, test_size = 0.1)"
   ]
  }
 ],
 "metadata": {
  "kernelspec": {
   "display_name": ".venv",
   "language": "python",
   "name": "python3"
  },
  "language_info": {
   "codemirror_mode": {
    "name": "ipython",
    "version": 3
   },
   "file_extension": ".py",
   "mimetype": "text/x-python",
   "name": "python",
   "nbconvert_exporter": "python",
   "pygments_lexer": "ipython3",
   "version": "3.10.11"
  }
 },
 "nbformat": 4,
 "nbformat_minor": 2
}
